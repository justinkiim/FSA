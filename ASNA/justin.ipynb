{
 "cells": [
  {
   "cell_type": "markdown",
   "metadata": {},
   "source": [
    "# ASNA HACKATHON 2025"
   ]
  },
  {
   "cell_type": "markdown",
   "metadata": {},
   "source": [
    "### IMPORT FILES"
   ]
  },
  {
   "cell_type": "code",
   "execution_count": null,
   "metadata": {},
   "outputs": [],
   "source": [
    "import pandas as pd\n",
    "import numpy as np\n",
    "import xgboost as xgb\n",
    "import matplotlib.pyplot as plt\n",
    "import seaborn as sns\n",
    "\n",
    "from sklearn.model_selection import train_test_split, StratifiedKFold, cross_val_score, GridSearchCV\n",
    "from sklearn.ensemble import RandomForestClassifier, GradientBoostingClassifier\n",
    "from sklearn.metrics import classification_report, accuracy_score, roc_auc_score\n",
    "from sklearn.inspection import permutation_importance\n",
    "from sklearn.feature_selection import RFE\n",
    "from sklearn.preprocessing import LabelEncoder\n",
    "from sklearn.metrics import confusion_matrix\n",
    "from sklearn.feature_selection import mutual_info_classif"
   ]
  },
  {
   "cell_type": "markdown",
   "metadata": {},
   "source": [
    "### Load & Prepare Data"
   ]
  },
  {
   "cell_type": "code",
   "execution_count": null,
   "metadata": {},
   "outputs": [
    {
     "data": {
      "text/plain": [
       "Index(['CustomerID', 'State', 'Customer Lifetime Value', 'Response',\n",
       "       'Coverage', 'Coverage Index', 'Education', 'Education Index',\n",
       "       'Effective To Date', 'Employment Status', 'Employment Status Index',\n",
       "       'Gender', 'Income', 'Marital Status', 'Marital Status Index',\n",
       "       'Months Since Last Claim', 'Months Since Policy Inception',\n",
       "       'Number of Open Complaints', 'Number of Policies', 'Policy Type',\n",
       "       'Policy Type Index', 'Policy', 'Policy Index', 'Renew Offer Type',\n",
       "       'Sales Channel', 'Sales Channel Index', 'Vehicle Size',\n",
       "       'Vehicle Size Index', 'Claim over 1k'],\n",
       "      dtype='object')"
      ]
     },
     "execution_count": 22,
     "metadata": {},
     "output_type": "execute_result"
    }
   ],
   "source": [
    "df = pd.read_csv('./Data/train.csv')\n",
    "df.columns"
   ]
  },
  {
   "cell_type": "code",
   "execution_count": null,
   "metadata": {},
   "outputs": [
    {
     "name": "stdout",
     "output_type": "stream",
     "text": [
      "<class 'pandas.core.frame.DataFrame'>\n",
      "RangeIndex: 7290 entries, 0 to 7289\n",
      "Data columns (total 29 columns):\n",
      " #   Column                         Non-Null Count  Dtype  \n",
      "---  ------                         --------------  -----  \n",
      " 0   CustomerID                     7290 non-null   object \n",
      " 1   State                          7290 non-null   object \n",
      " 2   Customer Lifetime Value        7290 non-null   float64\n",
      " 3   Response                       7290 non-null   object \n",
      " 4   Coverage                       7290 non-null   object \n",
      " 5   Coverage Index                 7290 non-null   int64  \n",
      " 6   Education                      7290 non-null   object \n",
      " 7   Education Index                7290 non-null   int64  \n",
      " 8   Effective To Date              7290 non-null   object \n",
      " 9   Employment Status              7290 non-null   object \n",
      " 10  Employment Status Index        7290 non-null   int64  \n",
      " 11  Gender                         7290 non-null   object \n",
      " 12  Income                         7290 non-null   int64  \n",
      " 13  Marital Status                 7290 non-null   object \n",
      " 14  Marital Status Index           7290 non-null   int64  \n",
      " 15  Months Since Last Claim        7290 non-null   int64  \n",
      " 16  Months Since Policy Inception  7290 non-null   int64  \n",
      " 17  Number of Open Complaints      7290 non-null   int64  \n",
      " 18  Number of Policies             7290 non-null   int64  \n",
      " 19  Policy Type                    7290 non-null   object \n",
      " 20  Policy Type Index              7290 non-null   int64  \n",
      " 21  Policy                         7290 non-null   object \n",
      " 22  Policy Index                   7290 non-null   int64  \n",
      " 23  Renew Offer Type               7290 non-null   int64  \n",
      " 24  Sales Channel                  7290 non-null   object \n",
      " 25  Sales Channel Index            7290 non-null   int64  \n",
      " 26  Vehicle Size                   7290 non-null   object \n",
      " 27  Vehicle Size Index             7290 non-null   int64  \n",
      " 28  Claim over 1k                  7290 non-null   int64  \n",
      "dtypes: float64(1), int64(15), object(13)\n",
      "memory usage: 1.6+ MB\n"
     ]
    }
   ],
   "source": [
    "df.info()"
   ]
  },
  {
   "cell_type": "markdown",
   "metadata": {},
   "source": [
    "### Categorical Variables"
   ]
  },
  {
   "cell_type": "code",
   "execution_count": null,
   "metadata": {},
   "outputs": [
    {
     "data": {
      "text/html": [
       "<div>\n",
       "<style scoped>\n",
       "    .dataframe tbody tr th:only-of-type {\n",
       "        vertical-align: middle;\n",
       "    }\n",
       "\n",
       "    .dataframe tbody tr th {\n",
       "        vertical-align: top;\n",
       "    }\n",
       "\n",
       "    .dataframe thead th {\n",
       "        text-align: right;\n",
       "    }\n",
       "</style>\n",
       "<table border=\"1\" class=\"dataframe\">\n",
       "  <thead>\n",
       "    <tr style=\"text-align: right;\">\n",
       "      <th></th>\n",
       "      <th>Column</th>\n",
       "      <th>Number of Unique Values</th>\n",
       "      <th>Unique Values</th>\n",
       "    </tr>\n",
       "  </thead>\n",
       "  <tbody>\n",
       "    <tr>\n",
       "      <th>0</th>\n",
       "      <td>State</td>\n",
       "      <td>5</td>\n",
       "      <td>California, Washington, Oregon, Arizona, Nevada</td>\n",
       "    </tr>\n",
       "    <tr>\n",
       "      <th>1</th>\n",
       "      <td>Response</td>\n",
       "      <td>2</td>\n",
       "      <td>No, Yes</td>\n",
       "    </tr>\n",
       "    <tr>\n",
       "      <th>2</th>\n",
       "      <td>Gender</td>\n",
       "      <td>2</td>\n",
       "      <td>F, M</td>\n",
       "    </tr>\n",
       "  </tbody>\n",
       "</table>\n",
       "</div>"
      ],
      "text/plain": [
       "     Column  Number of Unique Values  \\\n",
       "0     State                        5   \n",
       "1  Response                        2   \n",
       "2    Gender                        2   \n",
       "\n",
       "                                     Unique Values  \n",
       "0  California, Washington, Oregon, Arizona, Nevada  \n",
       "1                                          No, Yes  \n",
       "2                                             F, M  "
      ]
     },
     "execution_count": 88,
     "metadata": {},
     "output_type": "execute_result"
    }
   ],
   "source": [
    "# Extracting Categorical Variables\n",
    "\n",
    "columns_drop = [\"CustomerID\", \n",
    "                \"Effective To Date\", \n",
    "                \"Marital Status\", \n",
    "                \"Coverage\", \n",
    "                \"Education\", \n",
    "                \"Employment Status\", \n",
    "                \"Policy\", \n",
    "                \"Policy Type\",\n",
    "                \"Sales Channel\",\n",
    "                \"Vehicle Size\"]\n",
    "objects = df.drop(columns=columns_drop).select_dtypes(include='object')\n",
    "rows = [\n",
    "    {\n",
    "        'Column': column,\n",
    "        'Number of Unique Values': objects[column].nunique(),\n",
    "        'Unique Values': \", \".join(map(str, objects[column].unique()))\n",
    "    } \n",
    "    for column in objects.columns\n",
    "]\n",
    "\n",
    "unique_df = pd.DataFrame(rows)\n",
    "unique_df"
   ]
  },
  {
   "cell_type": "code",
   "execution_count": null,
   "metadata": {},
   "outputs": [
    {
     "data": {
      "text/html": [
       "<div>\n",
       "<style scoped>\n",
       "    .dataframe tbody tr th:only-of-type {\n",
       "        vertical-align: middle;\n",
       "    }\n",
       "\n",
       "    .dataframe tbody tr th {\n",
       "        vertical-align: top;\n",
       "    }\n",
       "\n",
       "    .dataframe thead th {\n",
       "        text-align: right;\n",
       "    }\n",
       "</style>\n",
       "<table border=\"1\" class=\"dataframe\">\n",
       "  <thead>\n",
       "    <tr style=\"text-align: right;\">\n",
       "      <th></th>\n",
       "      <th>State</th>\n",
       "      <th>Response</th>\n",
       "      <th>Gender</th>\n",
       "    </tr>\n",
       "  </thead>\n",
       "  <tbody>\n",
       "    <tr>\n",
       "      <th>0</th>\n",
       "      <td>1</td>\n",
       "      <td>0</td>\n",
       "      <td>0</td>\n",
       "    </tr>\n",
       "    <tr>\n",
       "      <th>1</th>\n",
       "      <td>4</td>\n",
       "      <td>0</td>\n",
       "      <td>1</td>\n",
       "    </tr>\n",
       "    <tr>\n",
       "      <th>2</th>\n",
       "      <td>3</td>\n",
       "      <td>0</td>\n",
       "      <td>1</td>\n",
       "    </tr>\n",
       "    <tr>\n",
       "      <th>3</th>\n",
       "      <td>4</td>\n",
       "      <td>0</td>\n",
       "      <td>0</td>\n",
       "    </tr>\n",
       "    <tr>\n",
       "      <th>4</th>\n",
       "      <td>0</td>\n",
       "      <td>0</td>\n",
       "      <td>1</td>\n",
       "    </tr>\n",
       "    <tr>\n",
       "      <th>...</th>\n",
       "      <td>...</td>\n",
       "      <td>...</td>\n",
       "      <td>...</td>\n",
       "    </tr>\n",
       "    <tr>\n",
       "      <th>7285</th>\n",
       "      <td>1</td>\n",
       "      <td>0</td>\n",
       "      <td>0</td>\n",
       "    </tr>\n",
       "    <tr>\n",
       "      <th>7286</th>\n",
       "      <td>1</td>\n",
       "      <td>0</td>\n",
       "      <td>0</td>\n",
       "    </tr>\n",
       "    <tr>\n",
       "      <th>7287</th>\n",
       "      <td>1</td>\n",
       "      <td>0</td>\n",
       "      <td>0</td>\n",
       "    </tr>\n",
       "    <tr>\n",
       "      <th>7288</th>\n",
       "      <td>1</td>\n",
       "      <td>0</td>\n",
       "      <td>0</td>\n",
       "    </tr>\n",
       "    <tr>\n",
       "      <th>7289</th>\n",
       "      <td>1</td>\n",
       "      <td>0</td>\n",
       "      <td>0</td>\n",
       "    </tr>\n",
       "  </tbody>\n",
       "</table>\n",
       "<p>7290 rows × 3 columns</p>\n",
       "</div>"
      ],
      "text/plain": [
       "      State  Response  Gender\n",
       "0         1         0       0\n",
       "1         4         0       1\n",
       "2         3         0       1\n",
       "3         4         0       0\n",
       "4         0         0       1\n",
       "...     ...       ...     ...\n",
       "7285      1         0       0\n",
       "7286      1         0       0\n",
       "7287      1         0       0\n",
       "7288      1         0       0\n",
       "7289      1         0       0\n",
       "\n",
       "[7290 rows x 3 columns]"
      ]
     },
     "execution_count": 89,
     "metadata": {},
     "output_type": "execute_result"
    }
   ],
   "source": [
    "# One Hot Encoding for Categorical Variables\n",
    "le = LabelEncoder()\n",
    "for column in objects:\n",
    "    objects[column] = le.fit_transform(objects[column])\n",
    "\n",
    "objects"
   ]
  },
  {
   "cell_type": "markdown",
   "metadata": {},
   "source": [
    "### Feature Selection"
   ]
  },
  {
   "cell_type": "code",
   "execution_count": null,
   "metadata": {},
   "outputs": [
    {
     "name": "stdout",
     "output_type": "stream",
     "text": [
      "<class 'pandas.core.frame.DataFrame'>\n",
      "RangeIndex: 7290 entries, 0 to 7289\n",
      "Data columns (total 19 columns):\n",
      " #   Column                         Non-Null Count  Dtype  \n",
      "---  ------                         --------------  -----  \n",
      " 0   Customer Lifetime Value        7290 non-null   float64\n",
      " 1   Coverage Index                 7290 non-null   int64  \n",
      " 2   Education Index                7290 non-null   int64  \n",
      " 3   Employment Status Index        7290 non-null   int64  \n",
      " 4   Income                         7290 non-null   int64  \n",
      " 5   Marital Status Index           7290 non-null   int64  \n",
      " 6   Months Since Last Claim        7290 non-null   int64  \n",
      " 7   Months Since Policy Inception  7290 non-null   int64  \n",
      " 8   Number of Open Complaints      7290 non-null   int64  \n",
      " 9   Number of Policies             7290 non-null   int64  \n",
      " 10  Policy Type Index              7290 non-null   int64  \n",
      " 11  Policy Index                   7290 non-null   int64  \n",
      " 12  Renew Offer Type               7290 non-null   int64  \n",
      " 13  Sales Channel Index            7290 non-null   int64  \n",
      " 14  Vehicle Size Index             7290 non-null   int64  \n",
      " 15  Claim over 1k                  7290 non-null   int64  \n",
      " 16  State                          7290 non-null   int64  \n",
      " 17  Response                       7290 non-null   int64  \n",
      " 18  Gender                         7290 non-null   int64  \n",
      "dtypes: float64(1), int64(18)\n",
      "memory usage: 1.1 MB\n"
     ]
    }
   ],
   "source": [
    "# Feature Estimates\n",
    "numerical = df.select_dtypes(include=[\"float64\", \"int64\"])\n",
    "df_new = pd.concat([numerical, objects], axis=1)\n",
    "df_new.info()"
   ]
  },
  {
   "cell_type": "code",
   "execution_count": 95,
   "metadata": {},
   "outputs": [],
   "source": [
    "# Features\n",
    "X = df_new.drop(columns=['Claim over 1k'])\n",
    "# Target Variable \n",
    "y = df_new['Claim over 1k']"
   ]
  },
  {
   "cell_type": "code",
   "execution_count": 96,
   "metadata": {},
   "outputs": [],
   "source": [
    "X_train, X_test, y_train, y_test = train_test_split(X, y, test_size=0.2, random_state=42)"
   ]
  },
  {
   "cell_type": "markdown",
   "metadata": {},
   "source": [
    "### Random Forest"
   ]
  },
  {
   "cell_type": "code",
   "execution_count": 99,
   "metadata": {},
   "outputs": [
    {
     "name": "stdout",
     "output_type": "stream",
     "text": [
      "Feature Importances:\n",
      "Customer Lifetime Value: 0.2036\n",
      "Months Since Policy Inception: 0.0946\n",
      "Number of Policies: 0.0931\n",
      "Income: 0.0929\n",
      "Months Since Last Claim: 0.0818\n",
      "Coverage Index: 0.0624\n",
      "Marital Status Index: 0.0594\n",
      "Employment Status Index: 0.0435\n",
      "Policy Index: 0.0388\n",
      "State: 0.0380\n",
      "Education Index: 0.0350\n",
      "Sales Channel Index: 0.0342\n",
      "Renew Offer Type: 0.0315\n",
      "Vehicle Size Index: 0.0253\n",
      "Number of Open Complaints: 0.0248\n",
      "Gender: 0.0185\n",
      "Policy Type Index: 0.0118\n",
      "Response: 0.0110\n"
     ]
    }
   ],
   "source": [
    "# Random Forest\n",
    "model = RandomForestClassifier(n_estimators=100, random_state=100)\n",
    "model.fit(X_train, y_train)\n",
    "\n",
    "importances = model.feature_importances_\n",
    "features = X_train.columns\n",
    "indices = np.argsort(importances)[::-1]\n",
    "\n",
    "# Print the feature importances\n",
    "print(\"Feature Importances:\")\n",
    "for i in indices:\n",
    "    print(f\"{features[i]}: {importances[i]:.4f}\")"
   ]
  },
  {
   "cell_type": "markdown",
   "metadata": {},
   "source": [
    "#### Accuracy"
   ]
  },
  {
   "cell_type": "code",
   "execution_count": 100,
   "metadata": {},
   "outputs": [
    {
     "name": "stdout",
     "output_type": "stream",
     "text": [
      "Accuracy: 0.9218106995884774\n",
      "ROC AUC: 0.9148758519961051\n",
      "              precision    recall  f1-score   support\n",
      "\n",
      "           0       0.93      0.99      0.96      1300\n",
      "           1       0.82      0.35      0.50       158\n",
      "\n",
      "    accuracy                           0.92      1458\n",
      "   macro avg       0.88      0.67      0.73      1458\n",
      "weighted avg       0.92      0.92      0.91      1458\n",
      "\n"
     ]
    }
   ],
   "source": [
    "y_pred = model.predict(X_test)\n",
    "\n",
    "# Evaluation\n",
    "print(\"Accuracy:\", accuracy_score(y_test, y_pred))\n",
    "print(\"ROC AUC:\", roc_auc_score(y_test, model.predict_proba(X_test)[:, 1]))\n",
    "print(classification_report(y_test, y_pred))"
   ]
  },
  {
   "cell_type": "code",
   "execution_count": 101,
   "metadata": {},
   "outputs": [
    {
     "data": {
      "text/plain": [
       "0.9137174211248285"
      ]
     },
     "execution_count": 101,
     "metadata": {},
     "output_type": "execute_result"
    }
   ],
   "source": [
    "# Cross-validation\n",
    "cv = StratifiedKFold(n_splits=10)\n",
    "\n",
    "score = cross_val_score(model, X, y, cv=cv, scoring='accuracy')\n",
    "avg_score = score.mean()\n",
    "avg_score"
   ]
  },
  {
   "cell_type": "markdown",
   "metadata": {},
   "source": [
    "### Graident Boosting"
   ]
  },
  {
   "cell_type": "code",
   "execution_count": 102,
   "metadata": {},
   "outputs": [
    {
     "name": "stdout",
     "output_type": "stream",
     "text": [
      "Feature Importances for Gradient Boosting:\n",
      "Customer Lifetime Value: 0.2967\n",
      "Number of Policies: 0.2687\n",
      "Income: 0.1725\n",
      "Marital Status Index: 0.1024\n",
      "Coverage Index: 0.0785\n",
      "Months Since Policy Inception: 0.0155\n",
      "Months Since Last Claim: 0.0154\n",
      "Education Index: 0.0126\n",
      "Response: 0.0082\n",
      "Number of Open Complaints: 0.0074\n",
      "Gender: 0.0071\n",
      "Employment Status Index: 0.0062\n",
      "Vehicle Size Index: 0.0039\n",
      "Policy Index: 0.0026\n",
      "State: 0.0017\n",
      "Renew Offer Type: 0.0004\n",
      "Sales Channel Index: 0.0002\n",
      "Policy Type Index: 0.0000\n"
     ]
    }
   ],
   "source": [
    "gb_model = GradientBoostingClassifier(n_estimators=100, learning_rate=0.1, max_depth=3, random_state=100)\n",
    "gb_model.fit(X_train, y_train)\n",
    "\n",
    "gb_importances = gb_model.feature_importances_\n",
    "gb_indices = np.argsort(gb_importances)[::-1]\n",
    "\n",
    "# Print the feature importances\n",
    "print(\"Feature Importances for Gradient Boosting:\")\n",
    "for i in gb_indices:\n",
    "    print(f\"{features[i]}: {gb_importances[i]:.4f}\")"
   ]
  },
  {
   "cell_type": "code",
   "execution_count": 103,
   "metadata": {},
   "outputs": [
    {
     "name": "stdout",
     "output_type": "stream",
     "text": [
      "Gradient Boosting Model Accuracy: 0.9320987654320988\n",
      "Classification Report:\n",
      "               precision    recall  f1-score   support\n",
      "\n",
      "           0       0.94      0.99      0.96      1300\n",
      "           1       0.83      0.47      0.60       158\n",
      "\n",
      "    accuracy                           0.93      1458\n",
      "   macro avg       0.89      0.73      0.78      1458\n",
      "weighted avg       0.93      0.93      0.92      1458\n",
      "\n"
     ]
    }
   ],
   "source": [
    "y_pred_gb = gb_model.predict(X_test)\n",
    "\n",
    "# Evaluate the predictions\n",
    "print(\"Gradient Boosting Model Accuracy:\", accuracy_score(y_test, y_pred_gb))\n",
    "print(\"Classification Report:\\n\", classification_report(y_test, y_pred_gb))"
   ]
  },
  {
   "cell_type": "code",
   "execution_count": null,
   "metadata": {},
   "outputs": [
    {
     "name": "stdout",
     "output_type": "stream",
     "text": [
      "Best parameters: {'learning_rate': 0.05, 'max_depth': 5, 'n_estimators': 200, 'subsample': 1.0}\n",
      "Best cross-validation score: 0.93\n"
     ]
    }
   ],
   "source": [
    "param_grid = {\n",
    "    'n_estimators': [100, 200],\n",
    "    'learning_rate': [0.1, 0.05],\n",
    "    'max_depth': [3, 4, 5],\n",
    "    'subsample': [0.8, 1.0]\n",
    "}\n",
    "\n",
    "grid_search = GridSearchCV(GradientBoostingClassifier(random_state=100), param_grid, cv=5, scoring='accuracy')\n",
    "grid_search.fit(X_train, y_train)\n",
    "print(\"Best parameters:\", grid_search.best_params_)\n",
    "print(\"Best cross-validation score: {:.2f}\".format(grid_search.best_score_))"
   ]
  }
 ],
 "metadata": {
  "kernelspec": {
   "display_name": "venv",
   "language": "python",
   "name": "python3"
  },
  "language_info": {
   "codemirror_mode": {
    "name": "ipython",
    "version": 3
   },
   "file_extension": ".py",
   "mimetype": "text/x-python",
   "name": "python",
   "nbconvert_exporter": "python",
   "pygments_lexer": "ipython3",
   "version": "3.11.5"
  }
 },
 "nbformat": 4,
 "nbformat_minor": 2
}
